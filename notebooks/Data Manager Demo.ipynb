{
 "cells": [
  {
   "cell_type": "code",
   "execution_count": null,
   "id": "f16a7f2c",
   "metadata": {},
   "outputs": [
    {
     "name": "stdout",
     "output_type": "stream",
     "text": [
      "[workflow] Backfilling ['BTCUSDT', 'ETHUSDT', 'SOLUSDT', 'NEARUSDT', 'XRPUSDT', 'LTCUSDT', 'AAVEUSDT'] 2020-01-01 00:00:00+00:00 → now\n",
      "[backfill-missing] Checking BTCUSDT 2020-01-01 00:00:00+00:00 → 2025-09-30 21:13:10.973662+00:00\n",
      "[backfill-missing] BTCUSDT: no history at all, full backfill\n"
     ]
    }
   ],
   "source": [
    "# === 1. Imports ===\n",
    "import pandas as pd\n",
    "from datetime import datetime, timedelta, timezone\n",
    "\n",
    "from allora_forge_builder_kit.workflow import AlloraMLWorkflow\n",
    "from sklearn.linear_model import LinearRegression\n",
    "\n",
    "# === 2. Initialize Workflow ===\n",
    "tickers = [\n",
    "    \"BTCUSDT\", \n",
    "    \"ETHUSDT\",\n",
    "    \"SOLUSDT\",\n",
    "    # \"NEARUSDT\",\n",
    "    # \"XRPUSDT\",\n",
    "    # \"LTCUSDT\",\n",
    "    # \"AAVEUSDT\",\n",
    "]\n",
    "\n",
    "wf = AlloraMLWorkflow(\n",
    "    tickers=tickers,\n",
    "    hours_needed=24,              # lookback in hours\n",
    "    number_of_input_candles=12,   # how many chunks in feature window\n",
    "    target_length=24,             # horizon for target\n",
    "    interval=\"5m\",\n",
    "    market=\"futures\",\n",
    "    base_dir=\"parquet_data\"\n",
    ")\n",
    "\n",
    "# === 3. Backfill data (last 7 days) ===\n",
    "# start = datetime.now(timezone.utc) - timedelta(days=7)\n",
    "start = datetime(2025, 1, 1, tzinfo=timezone.utc)\n",
    "wf.backfill(start=start)\n",
    "\n",
    "# === 4. Load features + targets ===\n",
    "full_data = wf.get_full_feature_target_dataframe(start_date=start)\n",
    "\n",
    "print(\"Feature/Target DataFrame sample:\")\n",
    "display(full_data.head())\n",
    "print(\"Shape:\", full_data.shape)\n",
    "\n",
    "# === 5. Split into X, y ===\n",
    "X = full_data[ [ f for f in list(full_data) if 'feature' in f ] ]\n",
    "y = full_data[\"target\"]\n",
    "\n",
    "print(\"Features shape:\", X.shape)\n",
    "print(\"Target shape:\", y.shape)\n",
    "\n",
    "# === 6. Train a simple model ===\n",
    "model = LinearRegression()\n",
    "model.fit(X, y)\n",
    "print(\"Sample prediction:\", model.predict(X.iloc[:1]))\n",
    "\n",
    "# === 7. Stream live predictions ===\n",
    "# This will run indefinitely until you Ctrl+C\n",
    "# Uncomment when ready to test live loop\n",
    "\n",
    "# wf.stream_live_predictions(model)\n"
   ]
  }
 ],
 "metadata": {
  "kernelspec": {
   "display_name": "ml311 dev",
   "language": "python",
   "name": "ml311_dev"
  },
  "language_info": {
   "codemirror_mode": {
    "name": "ipython",
    "version": 3
   },
   "file_extension": ".py",
   "mimetype": "text/x-python",
   "name": "python",
   "nbconvert_exporter": "python",
   "pygments_lexer": "ipython3",
   "version": "3.11.0"
  }
 },
 "nbformat": 4,
 "nbformat_minor": 5
}
